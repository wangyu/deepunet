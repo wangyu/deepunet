{
 "cells": [
  {
   "cell_type": "code",
   "execution_count": 49,
   "metadata": {},
   "outputs": [
    {
     "name": "stderr",
     "output_type": "stream",
     "text": [
      "/Users/yuwang/anaconda/envs/deepunet/lib/python3.6/site-packages/h5py/__init__.py:36: FutureWarning: Conversion of the second argument of issubdtype from `float` to `np.floating` is deprecated. In future, it will be treated as `np.float64 == np.dtype(float).type`.\n",
      "  from ._conv import register_converters as _register_converters\n"
     ]
    }
   ],
   "source": [
    "#!/usr/bin/env python\n",
    "\n",
    "import argparse\n",
    "import sys\n",
    "import os\n",
    "import pickle\n",
    "\n",
    "from tqdm import tqdm\n",
    "from joblib import Parallel, delayed\n",
    "\n",
    "from jams.util import smkdirs\n",
    "import pumpp\n",
    "\n",
    "import h5py"
   ]
  },
  {
   "cell_type": "code",
   "execution_count": 51,
   "metadata": {
    "collapsed": true
   },
   "outputs": [],
   "source": [
    "OUTPUT_PATH = 'resources'"
   ]
  },
  {
   "cell_type": "code",
   "execution_count": 46,
   "metadata": {
    "collapsed": true
   },
   "outputs": [],
   "source": [
    "def process_arguments(args):\n",
    "    parser = argparse.ArgumentParser(description=__doc__)\n",
    "\n",
    "    parser.add_argument('--sample-rate', dest='sr', type=float, default=44100.,\n",
    "                        help='Sampling rate for audio analysis')\n",
    "\n",
    "    parser.add_argument('--hop-length', dest='hop_length', type=int,\n",
    "                        default=512,\n",
    "                        help='Hop length for audio analysis')\n",
    "    \n",
    "    parser.add_argument('--nfft', dest='nfft', type=int,\n",
    "                        default=4096,\n",
    "                        help='Number of FFT for STFT')\n",
    "\n",
    "    parser.add_argument('--jobs', dest='n_jobs', type=int,\n",
    "                        default=1,\n",
    "                        help='Number of jobs to run in parallel')\n",
    "\n",
    "    parser.add_argument('input_path', type=str,\n",
    "                        help='Path for directory containing (audio, jams)')\n",
    "\n",
    "    parser.add_argument('output_path', type=str,\n",
    "                        help='Path to store pump output')\n",
    "\n",
    "    return parser.parse_args(args)"
   ]
  },
  {
   "cell_type": "code",
   "execution_count": 48,
   "metadata": {
    "collapsed": true
   },
   "outputs": [],
   "source": [
    "def root(x):\n",
    "    return os.path.splitext(os.path.basename(x))[0]"
   ]
  },
  {
   "cell_type": "code",
   "execution_count": 47,
   "metadata": {
    "collapsed": true
   },
   "outputs": [],
   "source": [
    "def make_pump(sr, hop_length, n_fft):\n",
    "    p_stft = pumpp.feature.STFTMag(name='stft',\n",
    "                                     sr=sr, hop_length=hop_length, n_fft=n_fft,\n",
    "                                     log=False, conv='tf')\n",
    "\n",
    "    pump = pumpp.Pump(p_stft)\n",
    "\n",
    "    # Save the pump\n",
    "    with open(os.path.join(OUTPUT_PATH, 'pump.pkl'), 'wb') as fd:\n",
    "        pickle.dump(pump, fd)\n",
    "\n",
    "    return pump"
   ]
  },
  {
   "cell_type": "code",
   "execution_count": 50,
   "metadata": {
    "collapsed": true
   },
   "outputs": [],
   "source": [
    "def convert(aud_mix, aud_inst, pump, outdir):\n",
    "    data = pump.transform(aud_mix)\n",
    "    data_inst = pump.transform(aud_inst)\n",
    "    data['output/mag'] = data_inst['stft/mag']\n",
    "    \n",
    "    fname = os.path.extsep.join([os.path.join(outdir, root(aud_mix)), 'h5'])\n",
    "    \n",
    "    with h5py.File(fname, 'w') as hf:\n",
    "        hf.update(**data)"
   ]
  },
  {
   "cell_type": "code",
   "execution_count": null,
   "metadata": {
    "collapsed": true
   },
   "outputs": [],
   "source": [
    "if __name__ == '__main__':\n",
    "    params = process_arguments(sys.argv[1:])\n",
    "    smkdirs(OUTPUT_PATH)\n",
    "    smkdirs(params.output_path)\n",
    "\n",
    "    print('{}: pre-processing'.format(__doc__))\n",
    "    print(params)\n",
    "    pump = make_pump(params.sr, params.hop_length, params.nfft)\n",
    "\n",
    "    stream = tqdm(crema.utils.get_ann_audio(params.input_path),\n",
    "                  desc='Converting training data')\n",
    "    \n",
    "    Parallel(n_jobs=params.n_jobs)(delayed(convert)(aud, ann,\n",
    "                                                    pump,\n",
    "                                                    params.output_path)\n",
    "                                   for aud, ann in stream)"
   ]
  }
 ],
 "metadata": {
  "kernelspec": {
   "display_name": "Python (deepunet)",
   "language": "python",
   "name": "deepunet"
  },
  "language_info": {
   "codemirror_mode": {
    "name": "ipython",
    "version": 3
   },
   "file_extension": ".py",
   "mimetype": "text/x-python",
   "name": "python",
   "nbconvert_exporter": "python",
   "pygments_lexer": "ipython3",
   "version": "3.6.4"
  }
 },
 "nbformat": 4,
 "nbformat_minor": 2
}
