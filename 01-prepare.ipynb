{
 "cells": [
  {
   "cell_type": "code",
   "execution_count": 31,
   "metadata": {},
   "outputs": [
    {
     "data": {
      "text/plain": [
       "<_io.BufferedRandom name='mixed_sounds.mp3'>"
      ]
     },
     "execution_count": 31,
     "metadata": {},
     "output_type": "execute_result"
    }
   ],
   "source": [
    "import pumpp\n",
    "from pydub import AudioSegment\n",
    "import os\n",
    "\n",
    "sound1 = AudioSegment.from_mp3('/Users/yuwang/Desktop/MARL MIR/deepunet_vocal_sep/test/instrumental/000002.mp3')\n",
    "sound2 = AudioSegment.from_mp3('/Users/yuwang/Desktop/MARL MIR/deepunet_vocal_sep/test/vocal/000002.mp3')\n",
    "\n",
    "# mix sound2 with sound1, starting at 5000ms into sound1)\n",
    "output = sound1.overlay(sound2, position=5000)\n",
    "\n",
    "# save the result\n",
    "output.export(\"000002.mp3\", format=\"mp3\")"
   ]
  },
  {
   "cell_type": "code",
   "execution_count": 53,
   "metadata": {},
   "outputs": [],
   "source": [
    "T = pumpp.feature.STFTMag(name='stft', sr=44100, hop_length=512, n_fft=1024, log=False, conv='tf')\n",
    "P = pumpp.Pump(T)"
   ]
  },
  {
   "cell_type": "code",
   "execution_count": 54,
   "metadata": {},
   "outputs": [],
   "source": [
    "d1 = P.transform(audio_f='/Users/yuwang/Desktop/MARL MIR/deepunet_vocal_sep/test/mix/000002.mp3')\n",
    "d2 = P.transform(audio_f='/Users/yuwang/Desktop/MARL MIR/deepunet_vocal_sep/test/instrumental/000002.mp3')"
   ]
  },
  {
   "cell_type": "code",
   "execution_count": 57,
   "metadata": {},
   "outputs": [
    {
     "name": "stdout",
     "output_type": "stream",
     "text": [
      "{'stft/mag': array([[[[0.],\n",
      "         [0.],\n",
      "         [0.],\n",
      "         ...,\n",
      "         [0.],\n",
      "         [0.],\n",
      "         [0.]],\n",
      "\n",
      "        [[0.],\n",
      "         [0.],\n",
      "         [0.],\n",
      "         ...,\n",
      "         [0.],\n",
      "         [0.],\n",
      "         [0.]],\n",
      "\n",
      "        [[0.],\n",
      "         [0.],\n",
      "         [0.],\n",
      "         ...,\n",
      "         [0.],\n",
      "         [0.],\n",
      "         [0.]],\n",
      "\n",
      "        ...,\n",
      "\n",
      "        [[0.],\n",
      "         [0.],\n",
      "         [0.],\n",
      "         ...,\n",
      "         [0.],\n",
      "         [0.],\n",
      "         [0.]],\n",
      "\n",
      "        [[0.],\n",
      "         [0.],\n",
      "         [0.],\n",
      "         ...,\n",
      "         [0.],\n",
      "         [0.],\n",
      "         [0.]],\n",
      "\n",
      "        [[0.],\n",
      "         [0.],\n",
      "         [0.],\n",
      "         ...,\n",
      "         [0.],\n",
      "         [0.],\n",
      "         [0.]]]], dtype=float32)}\n"
     ]
    }
   ],
   "source": [
    "print(d2)"
   ]
  },
  {
   "cell_type": "code",
   "execution_count": 59,
   "metadata": {},
   "outputs": [
    {
     "name": "stdout",
     "output_type": "stream",
     "text": [
      "{'stft/mag': array([[[[0.0000000e+00],\n",
      "         [0.0000000e+00],\n",
      "         [0.0000000e+00],\n",
      "         ...,\n",
      "         [0.0000000e+00],\n",
      "         [0.0000000e+00],\n",
      "         [0.0000000e+00]],\n",
      "\n",
      "        [[0.0000000e+00],\n",
      "         [0.0000000e+00],\n",
      "         [0.0000000e+00],\n",
      "         ...,\n",
      "         [0.0000000e+00],\n",
      "         [0.0000000e+00],\n",
      "         [0.0000000e+00]],\n",
      "\n",
      "        [[0.0000000e+00],\n",
      "         [0.0000000e+00],\n",
      "         [0.0000000e+00],\n",
      "         ...,\n",
      "         [0.0000000e+00],\n",
      "         [0.0000000e+00],\n",
      "         [0.0000000e+00]],\n",
      "\n",
      "        ...,\n",
      "\n",
      "        [[5.9859296e-03],\n",
      "         [4.2274878e-03],\n",
      "         [1.4071262e-03],\n",
      "         ...,\n",
      "         [3.3753444e-05],\n",
      "         [7.2950344e-05],\n",
      "         [9.1841459e-05]],\n",
      "\n",
      "        [[9.3404458e-05],\n",
      "         [9.2909147e-05],\n",
      "         [9.1438174e-05],\n",
      "         ...,\n",
      "         [2.6506459e-07],\n",
      "         [2.7223518e-07],\n",
      "         [2.7538468e-07]],\n",
      "\n",
      "        [[0.0000000e+00],\n",
      "         [0.0000000e+00],\n",
      "         [0.0000000e+00],\n",
      "         ...,\n",
      "         [0.0000000e+00],\n",
      "         [0.0000000e+00],\n",
      "         [0.0000000e+00]]]], dtype=float32), 'output/mag': array([[[[0.],\n",
      "         [0.],\n",
      "         [0.],\n",
      "         ...,\n",
      "         [0.],\n",
      "         [0.],\n",
      "         [0.]],\n",
      "\n",
      "        [[0.],\n",
      "         [0.],\n",
      "         [0.],\n",
      "         ...,\n",
      "         [0.],\n",
      "         [0.],\n",
      "         [0.]],\n",
      "\n",
      "        [[0.],\n",
      "         [0.],\n",
      "         [0.],\n",
      "         ...,\n",
      "         [0.],\n",
      "         [0.],\n",
      "         [0.]],\n",
      "\n",
      "        ...,\n",
      "\n",
      "        [[0.],\n",
      "         [0.],\n",
      "         [0.],\n",
      "         ...,\n",
      "         [0.],\n",
      "         [0.],\n",
      "         [0.]],\n",
      "\n",
      "        [[0.],\n",
      "         [0.],\n",
      "         [0.],\n",
      "         ...,\n",
      "         [0.],\n",
      "         [0.],\n",
      "         [0.]],\n",
      "\n",
      "        [[0.],\n",
      "         [0.],\n",
      "         [0.],\n",
      "         ...,\n",
      "         [0.],\n",
      "         [0.],\n",
      "         [0.]]]], dtype=float32)}\n"
     ]
    }
   ],
   "source": [
    "d1['output/mag'] = d2['stft/mag']\n",
    "print(d1)"
   ]
  },
  {
   "cell_type": "code",
   "execution_count": 60,
   "metadata": {
    "collapsed": true
   },
   "outputs": [],
   "source": [
    "# Only make this object when building the sampler (during training)\n",
    "\n",
    "fake_T = pumpp.feature.STFTMag(name='output', sr=16000, hop_length=512, n_fft=1024, log=False, conv='tf')"
   ]
  },
  {
   "cell_type": "code",
   "execution_count": 61,
   "metadata": {
    "collapsed": true
   },
   "outputs": [],
   "source": [
    "# Make a sampler using our real transformer and the fake one for output\n",
    "s = pumpp.Sampler(10, 50, T, fake_T)"
   ]
  },
  {
   "cell_type": "code",
   "execution_count": 62,
   "metadata": {},
   "outputs": [
    {
     "data": {
      "text/plain": [
       "dict_keys(['stft/mag', 'output/mag'])"
      ]
     },
     "execution_count": 62,
     "metadata": {},
     "output_type": "execute_result"
    }
   ],
   "source": [
    "d1.keys()"
   ]
  },
  {
   "cell_type": "code",
   "execution_count": 63,
   "metadata": {},
   "outputs": [
    {
     "data": {
      "text/plain": [
       "{'output/mag': array([[[[1.6450179e+00],\n",
       "          [4.8006802e+00],\n",
       "          [3.4997461e+00],\n",
       "          ...,\n",
       "          [9.6514312e-05],\n",
       "          [1.1788395e-04],\n",
       "          [1.9209813e-04]],\n",
       " \n",
       "         [[3.1655073e-01],\n",
       "          [4.2733164e+00],\n",
       "          [6.6905303e+00],\n",
       "          ...,\n",
       "          [7.3983865e-05],\n",
       "          [1.4083354e-04],\n",
       "          [2.6871410e-04]],\n",
       " \n",
       "         [[4.7237065e-02],\n",
       "          [1.4078211e+00],\n",
       "          [3.3308005e+00],\n",
       "          ...,\n",
       "          [3.5514011e-05],\n",
       "          [9.3975425e-05],\n",
       "          [9.1868722e-05]],\n",
       " \n",
       "         ...,\n",
       " \n",
       "         [[5.7875404e+01],\n",
       "          [6.0384075e+01],\n",
       "          [4.4865284e+01],\n",
       "          ...,\n",
       "          [1.3954945e-04],\n",
       "          [9.6099160e-05],\n",
       "          [7.6400494e-05]],\n",
       " \n",
       "         [[1.7714729e+01],\n",
       "          [1.6262331e+01],\n",
       "          [1.2189764e+01],\n",
       "          ...,\n",
       "          [1.9382351e-04],\n",
       "          [8.7081047e-05],\n",
       "          [3.4329008e-05]],\n",
       " \n",
       "         [[2.7223916e+00],\n",
       "          [3.0878968e+00],\n",
       "          [2.0181901e+00],\n",
       "          ...,\n",
       "          [4.6226400e-05],\n",
       "          [9.3982686e-05],\n",
       "          [6.3286476e-05]]]], dtype=float32),\n",
       " 'stft/mag': array([[[[2.1067069e+00],\n",
       "          [4.5986595e+00],\n",
       "          [3.4748001e+00],\n",
       "          ...,\n",
       "          [4.9275102e-05],\n",
       "          [7.5028547e-05],\n",
       "          [7.0462957e-05]],\n",
       " \n",
       "         [[5.3562737e-01],\n",
       "          [4.3336172e+00],\n",
       "          [6.6490135e+00],\n",
       "          ...,\n",
       "          [9.3886483e-05],\n",
       "          [1.7045092e-04],\n",
       "          [1.4954901e-04]],\n",
       " \n",
       "         [[1.9280517e-01],\n",
       "          [1.1957686e+00],\n",
       "          [3.2708595e+00],\n",
       "          ...,\n",
       "          [5.8927948e-05],\n",
       "          [1.5011235e-04],\n",
       "          [2.4241311e-04]],\n",
       " \n",
       "         ...,\n",
       " \n",
       "         [[5.4613605e+01],\n",
       "          [5.6846169e+01],\n",
       "          [4.1651352e+01],\n",
       "          ...,\n",
       "          [5.6222776e-05],\n",
       "          [1.3185260e-04],\n",
       "          [1.6605161e-05]],\n",
       " \n",
       "         [[1.7073402e+01],\n",
       "          [1.5569848e+01],\n",
       "          [1.1585175e+01],\n",
       "          ...,\n",
       "          [5.2826264e-05],\n",
       "          [3.8316528e-05],\n",
       "          [2.8938264e-06]],\n",
       " \n",
       "         [[2.4102640e+00],\n",
       "          [2.8605361e+00],\n",
       "          [1.9149859e+00],\n",
       "          ...,\n",
       "          [8.6847773e-05],\n",
       "          [8.8211447e-05],\n",
       "          [4.3921402e-05]]]], dtype=float32)}"
      ]
     },
     "execution_count": 63,
     "metadata": {},
     "output_type": "execute_result"
    }
   ],
   "source": [
    "# Grab a sample from the data dict\n",
    "next(s(d1))"
   ]
  },
  {
   "cell_type": "code",
   "execution_count": null,
   "metadata": {
    "collapsed": true
   },
   "outputs": [],
   "source": []
  }
 ],
 "metadata": {
  "kernelspec": {
   "display_name": "tensorflow",
   "language": "python",
   "name": "tensorflow"
  },
  "language_info": {
   "codemirror_mode": {
    "name": "ipython",
    "version": 3
   },
   "file_extension": ".py",
   "mimetype": "text/x-python",
   "name": "python",
   "nbconvert_exporter": "python",
   "pygments_lexer": "ipython3",
   "version": "3.6.1"
  }
 },
 "nbformat": 4,
 "nbformat_minor": 2
}
