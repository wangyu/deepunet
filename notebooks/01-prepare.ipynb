{
 "cells": [
  {
   "cell_type": "code",
   "execution_count": 24,
   "metadata": {},
   "outputs": [],
   "source": [
    "#!/usr/bin/env python\n",
    "\n",
    "import argparse\n",
    "import sys\n",
    "import os\n",
    "import pickle\n",
    "\n",
    "from tqdm import tqdm\n",
    "from joblib import Parallel, delayed\n",
    "\n",
    "import jams\n",
    "import pumpp\n",
    "\n",
    "import h5py"
   ]
  },
  {
   "cell_type": "code",
   "execution_count": 17,
   "metadata": {
    "collapsed": true
   },
   "outputs": [],
   "source": [
    "def process_arguments(args):\n",
    "    parser = argparse.ArgumentParser(description=__doc__)\n",
    "\n",
    "    parser.add_argument('--sample-rate', dest='sr', type=float, default=44100.,\n",
    "                        help='Sampling rate for audio analysis')\n",
    "\n",
    "    parser.add_argument('--hop-length', dest='hop_length', type=int,\n",
    "                        default=512,\n",
    "                        help='Hop length for audio analysis')\n",
    "    \n",
    "    parser.add_argument('--nfft', dest='n_fft', type=int,\n",
    "                        default=4096,\n",
    "                        help='Number of FFT for STFT')\n",
    "\n",
    "    parser.add_argument('--jobs', dest='n_jobs', type=int,\n",
    "                        default=1,\n",
    "                        help='Number of jobs to run in parallel')\n",
    "\n",
    "    parser.add_argument('input_path', type=str,\n",
    "                        help='Path for directory containing (audio_vocal, audio_instrument)')\n",
    "\n",
    "    parser.add_argument('output_path', type=str,\n",
    "                        help='Path to store pump output')\n",
    "\n",
    "    return parser.parse_args(args)"
   ]
  },
  {
   "cell_type": "code",
   "execution_count": 18,
   "metadata": {
    "collapsed": true
   },
   "outputs": [],
   "source": [
    "def root(x):\n",
    "    return os.path.splitext(os.path.basename(x))[0]"
   ]
  },
  {
   "cell_type": "code",
   "execution_count": 19,
   "metadata": {
    "collapsed": true
   },
   "outputs": [],
   "source": [
    "OUTPUT_PATH = '/Users/yuwang/projects/deepunet/'"
   ]
  },
  {
   "cell_type": "code",
   "execution_count": 20,
   "metadata": {
    "collapsed": true
   },
   "outputs": [],
   "source": [
    "def make_pump(sr, hop_length, n_fft):\n",
    "    p_stft = pumpp.feature.STFTMag(name='stft',\n",
    "                                     sr=sr, hop_length=hop_length, n_fft=n_fft,\n",
    "                                     log=False, conv='tf')\n",
    "\n",
    "    pump = pumpp.Pump(p_stft)\n",
    "\n",
    "    # Save the pump\n",
    "    with open(os.path.join(OUTPUT_PATH, 'pump.pkl'), 'wb') as fd:\n",
    "        pickle.dump(pump, fd)\n",
    "\n",
    "    return pump"
   ]
  },
  {
   "cell_type": "code",
   "execution_count": 26,
   "metadata": {
    "collapsed": true
   },
   "outputs": [],
   "source": [
    "def convert(aud_vocal, aud_inst, pump, outdir):\n",
    "    data = {}\n",
    "    data_vocal = pump.transform(aud_vocal)\n",
    "    data_inst = pump.transform(aud_inst)\n",
    "    data['stft/mag'] =  data_vocal['stft/mag'] + data_inst['stft/mag']\n",
    "    data['output/mag'] =  data_inst['stft/mag']\n",
    "    \n",
    "    fname = os.path.extsep.join([os.path.join(outdir, root(aud_inst)), 'h5'])\n",
    "    \n",
    "    with h5py.File(fname, 'w') as hf:\n",
    "        hf.update(**data)"
   ]
  },
  {
   "cell_type": "code",
   "execution_count": 22,
   "metadata": {},
   "outputs": [],
   "source": [
    "output_path = '/Users/yuwang/projects/deepunet/pump/'"
   ]
  },
  {
   "cell_type": "code",
   "execution_count": 28,
   "metadata": {},
   "outputs": [],
   "source": [
    "if __name__ == '__main__':\n",
    "    pump = make_pump(22050, 512, 1024)\n",
    "    \n",
    "    AUDIO_VOCAL = jams.util.find_with_extension('/Users/yuwang/projects/deepunet/test/vocal/', 'mp3')\n",
    "    AUDIO_INST = jams.util.find_with_extension('/Users/yuwang/projects/deepunet/test/instrumental/', 'mp3')\n",
    "\n",
    "    # Make sure there are the same number of files\n",
    "    assert len(AUDIO_VOCAL) == len(AUDIO_INST)\n",
    "    # And that they're in agreement\n",
    "    assert all([root(_1) == root(_2) for (_1, _2) in zip(AUDIO_VOCAL, AUDIO_INST)])\n",
    "    \n",
    "    Parallel(n_jobs=1)(delayed(convert)(aud_vocal, aud_inst, pump, output_path) for (aud_vocal, aud_inst) in zip(AUDIO_VOCAL, AUDIO_INST))"
   ]
  }
 ],
 "metadata": {
  "kernelspec": {
   "display_name": "Python (deepunet)",
   "language": "python",
   "name": "deepunet"
  },
  "language_info": {
   "codemirror_mode": {
    "name": "ipython",
    "version": 3
   },
   "file_extension": ".py",
   "mimetype": "text/x-python",
   "name": "python",
   "nbconvert_exporter": "python",
   "pygments_lexer": "ipython3",
   "version": "3.6.4"
  }
 },
 "nbformat": 4,
 "nbformat_minor": 2
}
