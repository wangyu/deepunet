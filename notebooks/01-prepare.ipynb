{
 "cells": [
  {
   "cell_type": "code",
   "execution_count": 1,
   "metadata": {},
   "outputs": [
    {
     "name": "stderr",
     "output_type": "stream",
     "text": [
      "/home/yw3004/miniconda3/envs/deepunet/lib/python3.6/site-packages/h5py/__init__.py:36: FutureWarning: Conversion of the second argument of issubdtype from `float` to `np.floating` is deprecated. In future, it will be treated as `np.float64 == np.dtype(float).type`.\n",
      "  from ._conv import register_converters as _register_converters\n"
     ]
    }
   ],
   "source": [
    "import argparse\n",
    "import sys\n",
    "import os\n",
    "import pickle\n",
    "\n",
    "from tqdm import tqdm\n",
    "from joblib import Parallel, delayed\n",
    "\n",
    "import jams\n",
    "import pumpp\n",
    "import librosa\n",
    "\n",
    "import h5py"
   ]
  },
  {
   "cell_type": "code",
   "execution_count": 2,
   "metadata": {},
   "outputs": [],
   "source": [
    "OUTPUT_PATH = '/scratch/yw3004/projects/deepunet/'"
   ]
  },
  {
   "cell_type": "code",
   "execution_count": 2,
   "metadata": {},
   "outputs": [],
   "source": [
    "def make_pump(sr, hop_length, n_fft):\n",
    "    p_stft = pumpp.feature.STFTMag(name='stft',\n",
    "                                     sr=sr, hop_length=hop_length, n_fft=n_fft,\n",
    "                                     log=False, conv='tf')\n",
    "\n",
    "    pump = pumpp.Pump(p_stft)\n",
    "\n",
    "    # Save the pump\n",
    "    with open(os.path.join(OUTPUT_PATH, 'pump.pkl'), 'wb') as fd:\n",
    "        pickle.dump(pump, fd)\n",
    "\n",
    "    return pump"
   ]
  },
  {
   "cell_type": "code",
   "execution_count": 3,
   "metadata": {},
   "outputs": [],
   "source": [
    "def normalize(data):\n",
    "    return (data - data.min()) /(data.max() - data.min())"
   ]
  },
  {
   "cell_type": "code",
   "execution_count": 4,
   "metadata": {},
   "outputs": [],
   "source": [
    "def root(x):\n",
    "    return os.path.splitext(os.path.basename(x))[0]"
   ]
  },
  {
   "cell_type": "code",
   "execution_count": 5,
   "metadata": {},
   "outputs": [],
   "source": [
    "def convert(aud_vocal, aud_inst, pump, outdir):\n",
    "    #load audio file here\n",
    "    #mix the audio\n",
    "    y_vocal, sr_vocal = librosa.load(aud_vocal)\n",
    "    y_inst, sr_inst = librosa.load(aud_inst)\n",
    "    y_mix = y_vocal + y_inst\n",
    "    \n",
    "    data = {}\n",
    "    data_mix = pump.transform(y=y_mix, sr=sr_vocal)\n",
    "    data_inst = pump.transform(aud_inst)\n",
    "    data['stft/mag'] =  data_mix['stft/mag']\n",
    "    data['output/mag'] =  data_inst['stft/mag']\n",
    "    \n",
    "    #normalize to the range [0,1]\n",
    "    data['stft/mag'] = normalize(data['stft/mag'])\n",
    "    data['output/mag'] = normalize(data['output/mag'])\n",
    "    \n",
    "    fname = os.path.extsep.join([os.path.join(outdir, root(aud_inst)), 'h5'])\n",
    "    \n",
    "    with h5py.File(fname, 'w') as hf:\n",
    "        hf.update(**data)"
   ]
  },
  {
   "cell_type": "code",
   "execution_count": 7,
   "metadata": {},
   "outputs": [],
   "source": [
    "output_path = '/scratch/yw3004/projects/deepunet/pump/'"
   ]
  },
  {
   "cell_type": "code",
   "execution_count": 8,
   "metadata": {},
   "outputs": [
    {
     "name": "stdout",
     "output_type": "stream",
     "text": [
      "83481\n",
      "83480\n"
     ]
    }
   ],
   "source": [
    "if __name__ == '__main__':\n",
    "    pump = make_pump(8192, 768, 1024)\n",
    "    \n",
    "    AUDIO_VOCAL = jams.util.find_with_extension('/scratch/yw3004/projects/deepunet/tempaudio/unfinished/vocal/', 'mp3')\n",
    "    AUDIO_INST = jams.util.find_with_extension('/scratch/yw3004/projects/deepunet/tempaudio/unfinished/instrumental/', 'mp3')\n",
    "\n",
    "    # Make sure there are the same number of files\n",
    "    assert len(AUDIO_VOCAL) == len(AUDIO_INST)\n",
    "    # And that they're in agreement\n",
    "    assert all([root(_1) == root(_2) for (_1, _2) in zip(AUDIO_VOCAL, AUDIO_INST)])\n",
    "    \n",
    "    Parallel(n_jobs=20)(delayed(convert)(aud_vocal, aud_inst, pump, os.path.join(output_path, os.path.basename(aud_vocal)[:3])) \n",
    "                       for (aud_vocal, aud_inst) in zip(AUDIO_VOCAL, AUDIO_INST))"
   ]
  },
  {
   "cell_type": "code",
   "execution_count": 6,
   "metadata": {},
   "outputs": [],
   "source": [
    "p_stft = pumpp.feature.STFTMag(name='stft',\n",
    "                               sr=8192, hop_length=768, n_fft=1024,\n",
    "                               log=False, conv='tf')"
   ]
  },
  {
   "cell_type": "code",
   "execution_count": 7,
   "metadata": {},
   "outputs": [],
   "source": [
    "pump = pumpp.Pump(p_stft)"
   ]
  },
  {
   "cell_type": "code",
   "execution_count": 8,
   "metadata": {},
   "outputs": [],
   "source": [
    "data_inst = pump.transform('/scratch/yw3004/projects/deepunet/audio/instrumental/000/000002.mp3')"
   ]
  },
  {
   "cell_type": "code",
   "execution_count": 11,
   "metadata": {},
   "outputs": [
    {
     "data": {
      "text/plain": [
       "(1, 1791, 513, 1)"
      ]
     },
     "execution_count": 11,
     "metadata": {},
     "output_type": "execute_result"
    }
   ],
   "source": [
    "data_inst['stft/mag'].shape"
   ]
  },
  {
   "cell_type": "code",
   "execution_count": null,
   "metadata": {},
   "outputs": [],
   "source": []
  }
 ],
 "metadata": {
  "kernelspec": {
   "display_name": "deepunet",
   "language": "python",
   "name": "deepunet"
  },
  "language_info": {
   "codemirror_mode": {
    "name": "ipython",
    "version": 3
   },
   "file_extension": ".py",
   "mimetype": "text/x-python",
   "name": "python",
   "nbconvert_exporter": "python",
   "pygments_lexer": "ipython3",
   "version": "3.6.4"
  }
 },
 "nbformat": 4,
 "nbformat_minor": 2
}
